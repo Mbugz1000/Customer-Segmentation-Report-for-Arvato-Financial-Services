{
 "cells": [
  {
   "cell_type": "markdown",
   "metadata": {},
   "source": [
    "# Introduction\n",
    "\n",
    "In this notebook, I will analyse the Seattle AirBNB Dataset from Inside AirBnb. I will follow the CRISP-DM process when analysing their data. The CRISP-DM stages are:\n",
    "\n",
    "1. Business Understanding\n",
    "1. Data Understanding\n",
    "1. Data Preparation\n",
    "1. Modelling\n",
    "1. Evaluation\n",
    "1. Deployment"
   ]
  },
  {
   "cell_type": "markdown",
   "metadata": {
    "tags": []
   },
   "source": [
    "# Business Understanding\n",
    "    \n",
    "In this project, a mail-order sales company in Germany is interested in identifying **segments of the general population to target** with their marketing in order to grow. The objective is to identify which individuals are most likely to respond to the campaign and become customers of the mail-order company.\n",
    "\n",
    "In this section, I will first focus on identifying the parts on the population that **best describe the core customer base** of the company **using customer segmentation**."
   ]
  },
  {
   "cell_type": "markdown",
   "metadata": {
    "tags": []
   },
   "source": [
    "# Data Understanding\n",
    "\n",
    "In this step, I will focus on understanding the Arvato and Germany Demographics data. I will do this as follows:\n",
    "1. Create Pandas Profiling reports and analyse them i.e. [Geramany Pop Demographics Report](../data/raw/population_demographics.html) and [Customer Demographics Report](../data/raw/customer_demographics.html)\n",
    "1. Note down **observations** and **action points** from Analysis"
   ]
  },
  {
   "cell_type": "markdown",
   "metadata": {},
   "source": [
    "## Load Datasets"
   ]
  },
  {
   "cell_type": "code",
   "execution_count": 1,
   "metadata": {},
   "outputs": [],
   "source": [
    "import pandas as pd\n",
    "import numpy as np\n",
    "import pandas_profiling as pp\n",
    "import matplotlib.pyplot as plt\n",
    "\n",
    "pd.set_option(\"display.max_columns\",50)\n",
    "%matplotlib inline\n",
    "\n",
    "home_dir = '../'\n",
    "data_dir = home_dir + 'data/'\n",
    "raw_dir = data_dir + 'raw/'\n",
    "processed_dir = data_dir + 'processed/'"
   ]
  },
  {
   "cell_type": "code",
   "execution_count": 2,
   "metadata": {},
   "outputs": [
    {
     "name": "stdout",
     "output_type": "stream",
     "text": [
      "Wall time: 1.53 s\n"
     ]
    }
   ],
   "source": [
    "%%time\n",
    "train_demographics = pd.read_csv(raw_dir + 'Udacity_MAILOUT_052018_TRAIN.csv', sep=';', low_memory=False)"
   ]
  },
  {
   "cell_type": "markdown",
   "metadata": {},
   "source": [
    "## Generate Pandas Profiling Reports"
   ]
  },
  {
   "cell_type": "code",
   "execution_count": 4,
   "metadata": {
    "tags": []
   },
   "outputs": [],
   "source": [
    "kwargs = dict(correlations={\n",
    "        \"pearson\": {\"calculate\": False, 'warn_high_correlations': True},\n",
    "        \"spearman\": {\"calculate\": False, 'warn_high_correlations': True},\n",
    "        \"kendall\": {\"calculate\": False, 'warn_high_correlations': False},\n",
    "        \"phi_k\": {\"calculate\": False, 'warn_high_correlations': False},\n",
    "        \"cramers\": {\"calculate\": False, 'warn_high_correlations': False},\n",
    "    }, missing_diagrams=None, interactions=None)"
   ]
  },
  {
   "cell_type": "code",
   "execution_count": 6,
   "metadata": {},
   "outputs": [
    {
     "data": {
      "application/vnd.jupyter.widget-view+json": {
       "model_id": "a37f2b5f5e2f49fc912856c6d2814386",
       "version_major": 2,
       "version_minor": 0
      },
      "text/plain": [
       "Summarize dataset:   0%|          | 0/5 [00:00<?, ?it/s]"
      ]
     },
     "metadata": {},
     "output_type": "display_data"
    },
    {
     "data": {
      "application/vnd.jupyter.widget-view+json": {
       "model_id": "75be756d815a4272b3cfaf402e548419",
       "version_major": 2,
       "version_minor": 0
      },
      "text/plain": [
       "Generate report structure:   0%|          | 0/1 [00:00<?, ?it/s]"
      ]
     },
     "metadata": {},
     "output_type": "display_data"
    },
    {
     "data": {
      "application/vnd.jupyter.widget-view+json": {
       "model_id": "1333410bf7ad400398239bc4e83384d6",
       "version_major": 2,
       "version_minor": 0
      },
      "text/plain": [
       "Render HTML:   0%|          | 0/1 [00:00<?, ?it/s]"
      ]
     },
     "metadata": {},
     "output_type": "display_data"
    },
    {
     "data": {
      "application/vnd.jupyter.widget-view+json": {
       "model_id": "15ece57a52f24ed5aae8ff1e142220a8",
       "version_major": 2,
       "version_minor": 0
      },
      "text/plain": [
       "Export report to file:   0%|          | 0/1 [00:00<?, ?it/s]"
      ]
     },
     "metadata": {},
     "output_type": "display_data"
    },
    {
     "name": "stdout",
     "output_type": "stream",
     "text": [
      "Wall time: 1min 38s\n"
     ]
    }
   ],
   "source": [
    "%%time\n",
    "pp.ProfileReport(train_demographics, title='Train Demographics', **kwargs).to_file(raw_dir + 'train_demographics.html')"
   ]
  },
  {
   "cell_type": "markdown",
   "metadata": {
    "tags": []
   },
   "source": [
    "## Observations\n",
    "\n",
    "1. The Demographics data uses **PLZ8 data**. You can find more info in it [here](https://www.regionale-marktdaten.de/plz8/) or [here](https://ddsgeo.com/download/flyer/PLZ8_eng_Flyer.pdf).\n",
    "1. It also uses **grid data**. You can find more info on this dataset [here](https://www.regionale-marktdaten.de/az-deutschland-raster/).\n",
    "1. It also has records of Information Level RR1_ID, RR3_ID and RR4_ID which are all different **spatial levels**. RR3_ID and RR4_ID are all associated with the **microcell level**, however I could not find a concise explanation for this spatial level beyond a small geographic area covered by a cellular carrier or some other transmission system.\n",
    "1. Many features have a large proportion of unknown values i.e. -1 or 0\n",
    "1. The features are too many to manually asses and drop."
   ]
  },
  {
   "cell_type": "markdown",
   "metadata": {
    "tags": []
   },
   "source": [
    "## Action Points\n",
    "1. Feed datasets with minimal data cleanin and transformation to algorithms to discover important features."
   ]
  },
  {
   "cell_type": "markdown",
   "metadata": {
    "tags": []
   },
   "source": [
    "# Data Preparation\n",
    "\n",
    "In this section, I clean and transform the Demographics data in preparation for clustering with HDBSCAN"
   ]
  },
  {
   "cell_type": "code",
   "execution_count": 3,
   "metadata": {},
   "outputs": [],
   "source": [
    "from sklearn.preprocessing import MinMaxScaler, FunctionTransformer, Normalizer, LabelEncoder"
   ]
  },
  {
   "cell_type": "code",
   "execution_count": 4,
   "metadata": {},
   "outputs": [
    {
     "data": {
      "text/plain": [
       "['ALTER_KIND4', 'ALTER_KIND3', 'ALTER_KIND2', 'ALTER_KIND1']"
      ]
     },
     "execution_count": 4,
     "metadata": {},
     "output_type": "execute_result"
    }
   ],
   "source": [
    "# Identifying columns that have more than 90% nulls\n",
    "train_missing = train_demographics.isna().sum()/train_demographics.shape[0]\n",
    "missing_data_cols = train_missing.reset_index().sort_values(by=0, ascending=False).rename(columns={0:'Missing_Proportion'}).query(\"Missing_Proportion > 0.9\")['index'].tolist()\n",
    "missing_data_cols"
   ]
  },
  {
   "cell_type": "code",
   "execution_count": 184,
   "metadata": {
    "tags": []
   },
   "outputs": [],
   "source": [
    "def clean_transform_demographics_data(demographics_df, missing_data_cols_, customer_data=True, drop_dups=True):\n",
    "    \"\"\"\n",
    "    This method cleans and transforms the demographics data. It takes the following steps:\n",
    "        1. Drop unneeded columns\n",
    "        2. Peform Label Encoding on columns that represent Year and on String/Object columns\n",
    "        3. Perform feature scaling on specific features\n",
    "        4. Fill all nulls with -1. (This represents Unknown for most features)\n",
    "        5. Drop Duplicates\n",
    "        \n",
    "    :param demographics_df: \n",
    "    :param missing_data_cols: Columns that have a large proportion of missing data\n",
    "    :param customer_data: Boolean variable that indicates if demographics_df is customer data or population data\n",
    "    :param drop_dups: Boolean variable that indicates if duplicates should be dropped\n",
    "    :return: Transformed demographics_df, Label Encoding Dict, Scaling Dict\n",
    "    \"\"\"\n",
    "    demographics_df = demographics_df.copy()\n",
    "    \n",
    "    if customer_data:\n",
    "        drop_columns = ['PRODUCT_GROUP','CUSTOMER_GROUP', 'ONLINE_PURCHASE']\n",
    "    else:\n",
    "        drop_columns = []\n",
    "    \n",
    "    # Columns missing more than 90% of their data\n",
    "    drop_columns += missing_data_cols_\n",
    "\n",
    "    # EINGEFUEGT_AM -> Inserted On (Date the record was inserted into the dataset)\n",
    "    # LNR -> Record ID (Not necessary)\n",
    "    # ANZ_HH_TITEL -> number of holders of an academic title in the building (Mostly 0)\n",
    "    drop_columns += ['LNR', 'EINGEFUEGT_AM', 'ANZ_HH_TITEL']\n",
    "    \n",
    "    demographics_df = demographics_df.drop(columns=drop_columns)\n",
    "\n",
    "    # Label Encoding\n",
    "    object_ = object\n",
    "    obj_cols = demographics_df.dtypes.reset_index().rename(columns={0:'Temp'}).query(\"Temp == @object_\")['index'].tolist()\n",
    "    year_cols = 'EINGEZOGENAM_HH_JAHR,GEBURTSJAHR,MIN_GEBAEUDEJAHR'.split(',')\n",
    "    labeller_dict = dict()\n",
    "    for col in obj_cols + year_cols:\n",
    "        series_ = demographics_df[col]\n",
    "        labeller_dict[col] = LabelEncoder().fit(series_)\n",
    "        demographics_df[col] = labeller_dict[col].transform(series_)\n",
    "\n",
    "    # Feature Scaling\n",
    "    scaler_dict = dict()\n",
    "    # KBA13_ANZAHL_PKW -> number of cars in the PLZ8\n",
    "    # ANZ_HAUSHALTE_AKTIV -> number of households known in this building\n",
    "    # ANZ_STATISTISCHE_HAUSHALTE -> Similar to ANZ_HAUSHALTE_AKTIV in values\n",
    "    scale_cols = \"KBA13_ANZAHL_PKW,ANZ_HAUSHALTE_AKTIV,ANZ_STATISTISCHE_HAUSHALTE\".split(',')\n",
    "    for col in scale_cols:\n",
    "        series_ = demographics_df[[col]]\n",
    "        scaler_dict[col] = MinMaxScaler(feature_range=(0,10)).fit(series_)\n",
    "        demographics_df[col] = scaler_dict[col].transform(series_)\n",
    "\n",
    "    demographics_df = demographics_df.fillna(-1)\n",
    "    \n",
    "    if drop_dups:\n",
    "        demographics_df = demographics_df.drop_duplicates()\n",
    "    \n",
    "    return demographics_df, labeller_dict, scaler_dict"
   ]
  },
  {
   "cell_type": "code",
   "execution_count": 6,
   "metadata": {},
   "outputs": [
    {
     "name": "stdout",
     "output_type": "stream",
     "text": [
      "Wall time: 825 ms\n"
     ]
    }
   ],
   "source": [
    "%%time\n",
    "train_demographics_clean, _, _ = clean_transform_demographics_data(train_demographics, missing_data_cols, customer_data=False)\n",
    "del train_demographics"
   ]
  },
  {
   "cell_type": "markdown",
   "metadata": {},
   "source": [
    "# Modelling\n",
    "\n",
    "In this section, I perform:\n",
    "1. Clustering using UMAP and HDBSCAN models\n",
    "1. Prediction of Customers using Grid Search"
   ]
  },
  {
   "cell_type": "markdown",
   "metadata": {
    "tags": []
   },
   "source": [
    "## Clustering using UMAP and HDBSCAN models"
   ]
  },
  {
   "cell_type": "code",
   "execution_count": 9,
   "metadata": {},
   "outputs": [],
   "source": [
    "import hdbscan\n",
    "import _pickle as cPickle\n",
    "\n",
    "from sklearn.manifold import TSNE\n",
    "import umap"
   ]
  },
  {
   "cell_type": "code",
   "execution_count": 11,
   "metadata": {},
   "outputs": [],
   "source": [
    "clustering_algo_columns = pd.read_csv(processed_dir + \"demographics_clean_sample_final.csv\").drop(columns=['Customer', 'clusters', 'clusters_prob']).columns.tolist()"
   ]
  },
  {
   "cell_type": "code",
   "execution_count": 80,
   "metadata": {},
   "outputs": [],
   "source": [
    "def clustering_with_umap_hdbscan(demographics_clean, clustering_algo_columns):\n",
    "    \"\"\"\n",
    "    This method performs clustering on the demographics_clean dataset. It does this by first performing dimensionality reduction.\n",
    "    \n",
    "    :param demographics_clean: \n",
    "    :param clustering_algo_columns: The columns that should be feed to the UMAP algorithm\n",
    "    :return: New matrix generated from the dimensionality reduction and the list of cluster labels\n",
    "    \"\"\" \n",
    "    with open(processed_dir + 'umap_dimension_reduction_all.pkl', mode='rb+') as fp:\n",
    "        umap_fitted = cPickle.load(fp)\n",
    "\n",
    "    with open(processed_dir + 'hbdscan_umap_clusterer_all.pkl', mode='rb+') as fp:\n",
    "        hbdscan_fitted = cPickle.load(fp)\n",
    "    \n",
    "    cluster_embeddings = umap_fitted.transform(demographics_clean[clustering_algo_columns].values)\n",
    "    del umap_fitted\n",
    "\n",
    "    clusters = hdbscan.approximate_predict(hbdscan_fitted, cluster_embeddings)\n",
    "    del hbdscan_fitted\n",
    "    \n",
    "    return cluster_embeddings, clusters"
   ]
  },
  {
   "cell_type": "code",
   "execution_count": 12,
   "metadata": {},
   "outputs": [
    {
     "name": "stdout",
     "output_type": "stream",
     "text": [
      "Wall time: 7min 40s\n"
     ]
    }
   ],
   "source": [
    "%%time\n",
    "train_cluster_embeddings, train_clusters = clustering_with_umap_hdbscan(train_demographics_clean)"
   ]
  },
  {
   "cell_type": "code",
   "execution_count": 14,
   "metadata": {
    "tags": []
   },
   "outputs": [],
   "source": [
    "def analyse_clusters(pred_cluster):\n",
    "    \"\"\"\n",
    "    This method performs a simple and quick analysis of the predicted clusters\n",
    "    \n",
    "    :param pred_cluster: Cluster labels\n",
    "    :return: None\n",
    "    \"\"\"\n",
    "    fig, axes = plt.subplots(1,2, figsize = (14,5))\n",
    "    titles = ['s', ' Probabilites']\n",
    "    for train_vals, ax, ttl in zip(pred_cluster, axes, titles):\n",
    "        ax.hist(train_vals)\n",
    "        ax.set_title(f\"Histogram of Cluster{ttl}\")\n",
    "\n",
    "    print('Cluster Value Count\\n', pd.Series(pred_cluster[0]).value_counts())\n",
    "\n",
    "    plt.show()"
   ]
  },
  {
   "cell_type": "code",
   "execution_count": 15,
   "metadata": {
    "tags": []
   },
   "outputs": [
    {
     "name": "stdout",
     "output_type": "stream",
     "text": [
      "Cluster Value Count\n",
      "  10    18567\n",
      " 13     3694\n",
      "-1      2627\n",
      " 14     2578\n",
      " 32     1233\n",
      "       ...  \n",
      " 34        1\n",
      " 22        1\n",
      " 97        1\n",
      " 78        1\n",
      " 92        1\n",
      "Length: 106, dtype: int64\n"
     ]
    },
    {
     "data": {
      "image/png": "[encoded data removed]",
      "text/plain": [
       "<Figure size 1008x360 with 2 Axes>"
      ]
     },
     "metadata": {
      "needs_background": "light"
     },
     "output_type": "display_data"
    }
   ],
   "source": [
    "analyse_clusters(train_clusters)"
   ]
  },
  {
   "cell_type": "code",
   "execution_count": 59,
   "metadata": {},
   "outputs": [
    {
     "data": {
      "text/plain": [
       "0    0.987285\n",
       "1    0.012715\n",
       "Name: RESPONSE, dtype: float64"
      ]
     },
     "execution_count": 59,
     "metadata": {},
     "output_type": "execute_result"
    }
   ],
   "source": [
    "test_dataset_s__.value_counts(normalize=True)"
   ]
  },
  {
   "cell_type": "markdown",
   "metadata": {
    "tags": []
   },
   "source": [
    "## Training using Grid Search"
   ]
  },
  {
   "cell_type": "code",
   "execution_count": 270,
   "metadata": {},
   "outputs": [],
   "source": [
    "from sklearn.model_selection import train_test_split, GridSearchCV, StratifiedKFold\n",
    "from sklearn.metrics import multilabel_confusion_matrix, confusion_matrix, ConfusionMatrixDisplay, classification_report, roc_auc_score\n",
    "from imblearn.over_sampling import SMOTE, BorderlineSMOTE, KMeansSMOTE\n",
    "from imblearn.pipeline import Pipeline as imbpipeline\n",
    "import lightgbm as lgb\n",
    "\n",
    "import shap"
   ]
  },
  {
   "cell_type": "code",
   "execution_count": 101,
   "metadata": {},
   "outputs": [],
   "source": [
    "def create_input_dataset(demographics_clean=train_demographics_clean, cluster_embeddings=train_cluster_embeddings, clusters=train_clusters, selected_columns=clustering_algo_columns, embeddings_bool=True, test_dataset=False, **kwargs):\n",
    "    \"\"\"\n",
    "    This method creates the input dataset to the ML Pipeline.It takes the following steps:\n",
    "        1. Create input_dataset array.\n",
    "        2. Convert input_dataset array to DataFrame\n",
    "        3. Extract Customer_Likely Feature. This is based on the clusters where we're likely to have more customers. It's the output of the first step of the project\n",
    "        4. Fetch the list of all columns as well as the list of categorical features\n",
    "    \n",
    "    :param demographics_clean:\n",
    "    :param cluster_embeddings: Embeddings generated by the UMAP algorithm\n",
    "    :param selected_columns: \n",
    "    :param embeddings_bool: Boolean value indicating if training should be performed on the Embeddings produced by the UMAP algorithm\n",
    "    :param test_dataset: Boolean that prevents the creation of target_dataset_s if we're creating the test dataset\n",
    "    :return:\n",
    "    \"\"\"\n",
    "    if embeddings_bool:\n",
    "        input_dataset = np.concatenate([cluster_embeddings, clusters[0].reshape(-1,1), clusters[1].reshape(-1,1)], axis=1)\n",
    "        input_dataset_df = pd.DataFrame(input_dataset, columns=list(map(str, np.arange(0,10))) + ['clusters', 'clusters_prob'])\n",
    "        input_dataset_df['customer_likely'] = input_dataset_df.clusters.isin([4,31,13,14,48,26,49,10,36,25,37,21,44,29,17,41,16,114,112]).astype(int)\n",
    "        \n",
    "        all_columns = input_dataset_df.columns.tolist()\n",
    "        categ_features = ['clusters', 'customer_likely']\n",
    "    else:\n",
    "        input_dataset = np.concatenate([demographics_clean[selected_columns], clusters[0].reshape(-1,1), clusters[1].reshape(-1,1)], axis=1)\n",
    "        input_dataset_df = pd.DataFrame(input_dataset, columns=selected_columns + ['clusters', 'clusters_prob'])\n",
    "        input_dataset_df['customer_likely'] = input_dataset_df.clusters.isin([4,31,13,14,48,26,49,10,36,25,37,21,44,29,17,41,16,114,112]).astype(int)\n",
    "                \n",
    "        all_columns = input_dataset_df.columns.tolist()\n",
    "        non_categ_features = 'ANZ_HAUSHALTE_AKTIV,ANZ_HH_TITEL,ANZ_PERSONEN,ANZ_TITEL,KBA13_ANZAHL_PKW,clusters_prob'.split(',')\n",
    "        categ_features = [col for col in all_columns if col not in non_categ_features]\n",
    "    \n",
    "    if test_dataset:\n",
    "        target_dataset_s = None\n",
    "    else:\n",
    "        target_dataset_s = demographics_clean['RESPONSE']\n",
    "    \n",
    "    return input_dataset_df, target_dataset_s, all_columns, categ_features"
   ]
  },
  {
   "cell_type": "code",
   "execution_count": 171,
   "metadata": {},
   "outputs": [
    {
     "name": "stdout",
     "output_type": "stream",
     "text": [
      "Wall time: 0 ns\n"
     ]
    }
   ],
   "source": [
    "%%time\n",
    "def build_model(smote_type='normal', **kwargs):\n",
    "    \"\"\"\n",
    "    This method builds a ML Model using Grid Search. It takes the following steps:\n",
    "        1. Create the input dataset\n",
    "        2. Perform Test Train Split\n",
    "        3. Create an imbalancelearn pre-processing Pipeline\n",
    "        4. Perform Grid Search using Stratified KFold\n",
    "    \n",
    "    :param smote_type: The Type of SMOTE Algorithm to use \n",
    "    :return: Grid Search object\n",
    "    \"\"\"\n",
    "    random_seed = 42\n",
    "    \n",
    "    train_dataset_df_, test_dataset_s_, all_columns, categ_features = create_input_dataset(**kwargs)\n",
    "    \n",
    "    X_train, X_test, y_train, y_test = train_test_split(train_dataset_df_, test_dataset_s_, test_size=0.2, random_state=random_seed)\n",
    "    \n",
    "    param_grid = {'clf__learning_rate':[0.1, 0.01, 0.001], 'clf__n_estimators': [100, 500, 1000, 2000], 'clf__class_weight': [None, 'balanced'], 'smote__k_neighbors': [10, 20, 30, 50, 100]}\n",
    "    \n",
    "    if smote_type == 'borderline':\n",
    "        param_grid['smote__kind'] = ['borderline-1', 'borderline-2']\n",
    "        \n",
    "        pipeline = imbpipeline(steps = [['smote', BorderlineSMOTE(random_state=random_seed)],\n",
    "                                        ['clf', lgb.LGBMClassifier(random_state=random_seed, n_jobs=-1, objective='binary')]])\n",
    "\n",
    "    elif smote_type == 'normal':\n",
    "        pipeline = imbpipeline(steps = [['smote', SMOTE(random_state=random_seed)],\n",
    "                                        ['clf', lgb.LGBMClassifier(random_state=random_seed, n_jobs=-1, objective='binary')]])\n",
    "        \n",
    "    elif smote_type == 'kmeans':\n",
    "        param_grid['smote__kmeans_estimator'] = [10, 100, 150]\n",
    "        param_grid['smote__cluster_balance_threshold'] = [0.005, 0.01, 0.05]\n",
    "        \n",
    "        pipeline = imbpipeline(steps = [['smote', KMeansSMOTE(random_state=random_seed)],\n",
    "                                        ['clf', lgb.LGBMClassifier(random_state=random_seed, n_jobs=-1, objective='binary')]])\n",
    "    \n",
    "    stratified_kfold = StratifiedKFold(n_splits=3, shuffle=True, random_state=11)\n",
    "\n",
    "    grid_search = GridSearchCV(estimator=pipeline,\n",
    "                               param_grid=param_grid,\n",
    "                               scoring='roc_auc',\n",
    "                               cv=stratified_kfold,\n",
    "                               n_jobs=-1)\n",
    "\n",
    "    grid_search.fit(X_train, y_train, clf__feature_name=all_columns, clf__categorical_feature=categ_features, clf__eval_metric='binary_logloss')\n",
    "\n",
    "    cv_score = grid_search.best_score_\n",
    "    test_score = grid_search.score(X_test, y_test)\n",
    "    best_params = grid_search.best_params_\n",
    "    print(f'Best Params: {best_params}\\nCross-validation score: {cv_score}\\nTest score: {test_score}')\n",
    "    \n",
    "    return grid_search"
   ]
  },
  {
   "cell_type": "code",
   "execution_count": 18,
   "metadata": {},
   "outputs": [],
   "source": [
    "grid_search_output_dict = dict()"
   ]
  },
  {
   "cell_type": "code",
   "execution_count": 19,
   "metadata": {},
   "outputs": [
    {
     "name": "stdout",
     "output_type": "stream",
     "text": [
      "Training using UMAP Embeddings\n"
     ]
    },
    {
     "name": "stderr",
     "output_type": "stream",
     "text": [
      "E:\\ProgramData\\Miniconda3\\envs\\project_4_udacity\\lib\\site-packages\\lightgbm\\basic.py:2065: UserWarning: Using categorical_feature in Dataset.\n",
      "  _log_warning('Using categorical_feature in Dataset.')\n"
     ]
    },
    {
     "name": "stdout",
     "output_type": "stream",
     "text": [
      "Best Params: {'clf__class_weight': None, 'clf__learning_rate': 0.1, 'clf__n_estimators': 2000, 'smote__k_neighbors': 20}\n",
      "Cross-validation score: 0.5491080374272207\n",
      "Test score: 0.5240687809083073\n",
      "Wall time: 6min 17s\n"
     ]
    }
   ],
   "source": [
    "%%time\n",
    "print(\"Training using UMAP Embeddings\")\n",
    "smote_type='normal'\n",
    "grid_search_output_dict[True, smote_type] = build_model(embeddings_bool=True, smote_type=smote_type)"
   ]
  },
  {
   "cell_type": "code",
   "execution_count": 20,
   "metadata": {
    "tags": []
   },
   "outputs": [
    {
     "name": "stdout",
     "output_type": "stream",
     "text": [
      "Training using Raw Features\n"
     ]
    },
    {
     "name": "stderr",
     "output_type": "stream",
     "text": [
      "E:\\ProgramData\\Miniconda3\\envs\\project_4_udacity\\lib\\site-packages\\lightgbm\\basic.py:2065: UserWarning: Using categorical_feature in Dataset.\n",
      "  _log_warning('Using categorical_feature in Dataset.')\n"
     ]
    },
    {
     "name": "stdout",
     "output_type": "stream",
     "text": [
      "Best Params: {'clf__class_weight': None, 'clf__learning_rate': 0.01, 'clf__n_estimators': 500, 'smote__k_neighbors': 100}\n",
      "Cross-validation score: 0.7486537151975914\n",
      "Test score: 0.7482960640799916\n",
      "Wall time: 1h 1min 6s\n"
     ]
    }
   ],
   "source": [
    "%%time\n",
    "print(\"Training using Raw Features\")\n",
    "smote_type='normal'\n",
    "grid_search_output_dict[False, smote_type] = build_model(embeddings_bool=False, smote_type=smote_type)"
   ]
  },
  {
   "cell_type": "code",
   "execution_count": 21,
   "metadata": {},
   "outputs": [
    {
     "name": "stdout",
     "output_type": "stream",
     "text": [
      "Training using UMAP Embeddings -> SMOTE Borderline\n"
     ]
    },
    {
     "name": "stderr",
     "output_type": "stream",
     "text": [
      "E:\\ProgramData\\Miniconda3\\envs\\project_4_udacity\\lib\\site-packages\\lightgbm\\basic.py:2065: UserWarning: Using categorical_feature in Dataset.\n",
      "  _log_warning('Using categorical_feature in Dataset.')\n"
     ]
    },
    {
     "name": "stdout",
     "output_type": "stream",
     "text": [
      "Best Params: {'clf__class_weight': None, 'clf__learning_rate': 0.1, 'clf__n_estimators': 1000, 'smote__k_neighbors': 20, 'smote__kind': 'borderline-2'}\n",
      "Cross-validation score: 0.5609567430847728\n",
      "Test score: 0.48937610406412685\n",
      "Wall time: 12min 33s\n"
     ]
    }
   ],
   "source": [
    "%%time\n",
    "print(\"Training using UMAP Embeddings -> SMOTE Borderline\")\n",
    "smote_type='borderline'\n",
    "grid_search_output_dict[True, smote_type] = build_model(embeddings_bool=True, smote_type=smote_type)"
   ]
  },
  {
   "cell_type": "code",
   "execution_count": 22,
   "metadata": {},
   "outputs": [
    {
     "name": "stdout",
     "output_type": "stream",
     "text": [
      "Training using Raw Features -> SMOTE Borderline\n"
     ]
    },
    {
     "name": "stderr",
     "output_type": "stream",
     "text": [
      "E:\\ProgramData\\Miniconda3\\envs\\project_4_udacity\\lib\\site-packages\\lightgbm\\basic.py:2065: UserWarning: Using categorical_feature in Dataset.\n",
      "  _log_warning('Using categorical_feature in Dataset.')\n"
     ]
    },
    {
     "name": "stdout",
     "output_type": "stream",
     "text": [
      "Best Params: {'clf__class_weight': None, 'clf__learning_rate': 0.01, 'clf__n_estimators': 100, 'smote__k_neighbors': 30, 'smote__kind': 'borderline-2'}\n",
      "Cross-validation score: 0.7526483299698157\n",
      "Test score: 0.7638104061199729\n",
      "Wall time: 1h 55min 7s\n"
     ]
    }
   ],
   "source": [
    "%%time\n",
    "print(\"Training using Raw Features -> SMOTE Borderline\")\n",
    "smote_type='borderline'\n",
    "grid_search_output_dict[False, smote_type] = build_model(embeddings_bool=False, smote_type=smote_type)"
   ]
  },
  {
   "cell_type": "code",
   "execution_count": 71,
   "metadata": {
    "tags": []
   },
   "outputs": [
    {
     "name": "stdout",
     "output_type": "stream",
     "text": [
      "Training using UMAP Embeddings -> SMOTE KMeans\n"
     ]
    },
    {
     "name": "stderr",
     "output_type": "stream",
     "text": [
      "C:\\Users\\ktmbugua\\AppData\\Roaming\\Python\\Python37\\site-packages\\sklearn\\model_selection\\_search.py:921: UserWarning: One or more of the test scores are non-finite: [0.53483529 0.53346806        nan ...        nan        nan        nan]\n",
      "  category=UserWarning\n",
      "E:\\ProgramData\\Miniconda3\\envs\\project_4_udacity\\lib\\site-packages\\lightgbm\\basic.py:2065: UserWarning: Using categorical_feature in Dataset.\n",
      "  _log_warning('Using categorical_feature in Dataset.')\n"
     ]
    },
    {
     "name": "stdout",
     "output_type": "stream",
     "text": [
      "Best Params: {'clf__class_weight': None, 'clf__learning_rate': 0.1, 'clf__n_estimators': 500, 'smote__cluster_balance_threshold': 0.005, 'smote__k_neighbors': 10, 'smote__kmeans_estimator': 10}\n",
      "Cross-validation score: 0.5490736063747034\n",
      "Test score: 0.5104153403261664\n",
      "Wall time: 16min 33s\n"
     ]
    }
   ],
   "source": [
    "%%time\n",
    "print(\"Training using UMAP Embeddings -> SMOTE KMeans\")\n",
    "smote_type='kmeans'\n",
    "grid_search_output_dict[True, smote_type] = build_model(embeddings_bool=True, smote_type=smote_type)"
   ]
  },
  {
   "cell_type": "code",
   "execution_count": 72,
   "metadata": {
    "tags": []
   },
   "outputs": [
    {
     "name": "stdout",
     "output_type": "stream",
     "text": [
      "Training using Raw Features -> SMOTE KMeans\n"
     ]
    },
    {
     "name": "stderr",
     "output_type": "stream",
     "text": [
      "C:\\Users\\ktmbugua\\AppData\\Roaming\\Python\\Python37\\site-packages\\sklearn\\model_selection\\_search.py:921: UserWarning: One or more of the test scores are non-finite: [0.7323474       nan       nan ...       nan       nan       nan]\n",
      "  category=UserWarning\n",
      "E:\\ProgramData\\Miniconda3\\envs\\project_4_udacity\\lib\\site-packages\\lightgbm\\basic.py:2065: UserWarning: Using categorical_feature in Dataset.\n",
      "  _log_warning('Using categorical_feature in Dataset.')\n"
     ]
    },
    {
     "name": "stdout",
     "output_type": "stream",
     "text": [
      "Best Params: {'clf__class_weight': 'balanced', 'clf__learning_rate': 0.01, 'clf__n_estimators': 500, 'smote__cluster_balance_threshold': 0.005, 'smote__k_neighbors': 10, 'smote__kmeans_estimator': 10}\n",
      "Cross-validation score: 0.7627481691318012\n",
      "Test score: 0.744064946412185\n",
      "Wall time: 1h 42min 48s\n"
     ]
    }
   ],
   "source": [
    "%%time\n",
    "print(\"Training using Raw Features -> SMOTE KMeans\")\n",
    "smote_type='kmeans'\n",
    "grid_search_output_dict[False, smote_type] = build_model(embeddings_bool=False, smote_type=smote_type)"
   ]
  },
  {
   "cell_type": "code",
   "execution_count": 73,
   "metadata": {},
   "outputs": [],
   "source": [
    "with open(processed_dir + 'grid_search_results_dict.pkl', mode='wb') as fp:\n",
    "    cPickle.dump(grid_search_output_dict, fp)"
   ]
  },
  {
   "cell_type": "markdown",
   "metadata": {
    "tags": []
   },
   "source": [
    "# Evaluation\n",
    "\n",
    "Here, we evaluate the model using SHAP and train a final version"
   ]
  },
  {
   "cell_type": "code",
   "execution_count": 106,
   "metadata": {},
   "outputs": [],
   "source": [
    "train_dataset_df_, test_dataset_s_, all_columns, categ_features = create_input_dataset(embeddings_bool=False)\n",
    "X_train, X_test, y_train, y_test = train_test_split(train_dataset_df_, test_dataset_s_, test_size=0.2, random_state=42)\n",
    "# X_train, y_train = SMOTE(k_neighbors=100, random_state=42).fit_resample(X_train, y_train)"
   ]
  },
  {
   "cell_type": "code",
   "execution_count": 108,
   "metadata": {},
   "outputs": [
    {
     "name": "stdout",
     "output_type": "stream",
     "text": [
      "Wall time: 29.7 s\n"
     ]
    },
    {
     "name": "stderr",
     "output_type": "stream",
     "text": [
      "LightGBM binary classifier with TreeExplainer shap values output has changed to a list of ndarray\n"
     ]
    }
   ],
   "source": [
    "%%time\n",
    "# Explain Model using Shap\n",
    "explainer = shap.TreeExplainer(grid_search_output_dict[False, 'normal'].best_estimator_['clf'])\n",
    "shap_values = explainer.shap_values(X_train)"
   ]
  },
  {
   "cell_type": "code",
   "execution_count": 112,
   "metadata": {
    "tags": []
   },
   "outputs": [
    {
     "data": {
      "image/png": "[encoded data removed]",
      "text/plain": [
       "<Figure size 1800x720 with 1 Axes>"
      ]
     },
     "metadata": {
      "needs_background": "light"
     },
     "output_type": "display_data"
    }
   ],
   "source": [
    "# Plot Summary Plot\n",
    "shap.summary_plot(shap_values, X_train, class_names=np.arange(0,2), plot_type='bar', max_display=15, plot_size=(25, 10), feature_names=all_columns)"
   ]
  },
  {
   "cell_type": "code",
   "execution_count": 116,
   "metadata": {
    "jupyter": {
     "source_hidden": true
    },
    "tags": []
   },
   "outputs": [],
   "source": [
    "# Plot Summary Plot\n",
    "def plot_cluster_summary_plot(cluster_no, no_of_features=5, plot_type='bar', shap_values=shap_values, X_train=X_train, all_columns=all_columns):\n",
    "    \"\"\"\n",
    "    This method plots a summary plot for a single cluster\n",
    "    \n",
    "    :param cluster_no:\n",
    "    :param no_of_features: No of features to plot\n",
    "    :param plot_type:\n",
    "    :param shap_values: Generated Shaply Values\n",
    "    :param X_train:\n",
    "    :param max_data_points:\n",
    "    :param all_columns: List of column names that were in the training dataset\n",
    "    :return: None\n",
    "    \"\"\" \n",
    "    fig, axes = plt.subplots(1,1, figsize=(5, 5))\n",
    "\n",
    "    shap.summary_plot(shap_values[cluster_no], X_train, plot_type=plot_type, show=False, max_display=no_of_features, plot_size=(10, 5), feature_names=all_columns)\n",
    "    axes.set_title(f\"Class {cluster_no} Summary Plot\")\n",
    "    plt.show()"
   ]
  },
  {
   "cell_type": "code",
   "execution_count": 119,
   "metadata": {},
   "outputs": [
    {
     "data": {
      "image/png": "[encoded data removed]",
      "text/plain": [
       "<Figure size 720x360 with 2 Axes>"
      ]
     },
     "metadata": {
      "needs_background": "light"
     },
     "output_type": "display_data"
    }
   ],
   "source": [
    "plot_cluster_summary_plot(0, no_of_features=10, plot_type='dot')"
   ]
  },
  {
   "cell_type": "code",
   "execution_count": 120,
   "metadata": {},
   "outputs": [
    {
     "data": {
      "image/png": "[encoded data removed]",
      "text/plain": [
       "<Figure size 720x360 with 2 Axes>"
      ]
     },
     "metadata": {
      "needs_background": "light"
     },
     "output_type": "display_data"
    }
   ],
   "source": [
    "plot_cluster_summary_plot(1, no_of_features=10, plot_type='dot')"
   ]
  },
  {
   "cell_type": "markdown",
   "metadata": {},
   "source": [
    "Comments:\n",
    "- Top 2 features are not in the Data Dictionaries. However,\n",
    "    - GEMEINDETYPE means Community Type\n",
    "    - D19_SOZIALES means Social\n",
    "- GEBAEUDETYPE (Building Type: Commercial/Residential). Mixed building has a "
   ]
  },
  {
   "cell_type": "code",
   "execution_count": 178,
   "metadata": {},
   "outputs": [],
   "source": [
    "# Shap Feature Importances\n",
    "feature_importance_values = np.abs(shap_values[0]).mean(axis=0) + np.abs(shap_values[1]).mean(axis=0)\n",
    "shap_feature_importances = np.array(all_columns)[np.argsort(feature_importance_values)[::-1]]\n",
    "\n",
    "# Selecting features that have a greater than 0.5% impact on the output of the model relative to the Top Feature\n",
    "selected_features = feature_importance_values/feature_importance_values.max()*100 > 0.5\n",
    "top_selected_features = list(np.array(all_columns)[selected_features][:-2])  # Added [:-2] to remove the clusters features since they are added in the create_input_dataset function"
   ]
  },
  {
   "cell_type": "markdown",
   "metadata": {},
   "source": [
    "Rerunning the Model Build Process after dropping unnecessary columns"
   ]
  },
  {
   "cell_type": "code",
   "execution_count": 180,
   "metadata": {},
   "outputs": [],
   "source": [
    "feature_set = top_selected_features"
   ]
  },
  {
   "cell_type": "code",
   "execution_count": 181,
   "metadata": {
    "tags": []
   },
   "outputs": [
    {
     "name": "stdout",
     "output_type": "stream",
     "text": [
      "Training using Raw Features -> Normal SMOTE\n"
     ]
    },
    {
     "name": "stderr",
     "output_type": "stream",
     "text": [
      "Using categorical_feature in Dataset.\n"
     ]
    },
    {
     "name": "stdout",
     "output_type": "stream",
     "text": [
      "Best Params: {'clf__class_weight': None, 'clf__learning_rate': 0.01, 'clf__n_estimators': 500, 'smote__k_neighbors': 50}\n",
      "Cross-validation score: 0.7531799848194426\n",
      "Test score: 0.7443444841065989\n",
      "Wall time: 26min 7s\n"
     ]
    }
   ],
   "source": [
    "%%time\n",
    "print(\"Training using Raw Features -> Normal SMOTE\")\n",
    "smote_type='normal'\n",
    "grid_search_final = build_model(embeddings_bool=False, smote_type=smote_type, selected_columns=feature_set)"
   ]
  },
  {
   "cell_type": "code",
   "execution_count": 182,
   "metadata": {
    "tags": []
   },
   "outputs": [
    {
     "name": "stdout",
     "output_type": "stream",
     "text": [
      "Training using Raw Features -> SMOTE Borderline\n"
     ]
    },
    {
     "name": "stderr",
     "output_type": "stream",
     "text": [
      "Using categorical_feature in Dataset.\n"
     ]
    },
    {
     "name": "stdout",
     "output_type": "stream",
     "text": [
      "Best Params: {'clf__class_weight': None, 'clf__learning_rate': 0.01, 'clf__n_estimators': 500, 'smote__k_neighbors': 50, 'smote__kind': 'borderline-1'}\n",
      "Cross-validation score: 0.7549685535053167\n",
      "Test score: 0.7544429662608246\n",
      "Wall time: 33min 41s\n"
     ]
    }
   ],
   "source": [
    "%%time\n",
    "print(\"Training using Raw Features -> SMOTE Borderline\")\n",
    "smote_type='borderline'\n",
    "grid_search_best = build_model(embeddings_bool=False, smote_type=smote_type, selected_columns=feature_set)"
   ]
  },
  {
   "cell_type": "code",
   "execution_count": 417,
   "metadata": {
    "jupyter": {
     "source_hidden": true
    },
    "tags": []
   },
   "outputs": [],
   "source": [
    "def plot_roc_curve(y_test, y_pred_prob):\n",
    "    \"\"\"\n",
    "    This method plots an ROC curve given the y_test and y_pred_prob\n",
    "    \n",
    "    :param y_test:\n",
    "    :param y_pred_prob: Probability that a recepient of a campaign will become a customer\n",
    "    :return: None\n",
    "    \"\"\"\n",
    "    fpr_logis, tpr_logis, thresholds_logis = roc_curve(y_test, y_pred_prob)\n",
    "\n",
    "    fig, ax = plt.subplots(figsize=(10, 7))\n",
    "    # plotting the \"guessing\" model\n",
    "    plt.plot([0, 1], [0, 1], 'k--')\n",
    "    # plotting the logistic model\n",
    "    plt.plot(fpr_logis, tpr_logis)\n",
    "    plt.fill_between(fpr_logis, tpr_logis, alpha=0.2, color='b')\n",
    "    plt.xlabel('False Positive Rate')\n",
    "    plt.ylabel('True Positive Rate')\n",
    "    auc_score = roc_auc_score(y_test, y_pred_prob)\n",
    "    plt.title('ROC curve: AUC={0:0.3f}'.format(auc_score))\n",
    "    plt.show()"
   ]
  },
  {
   "cell_type": "code",
   "execution_count": 416,
   "metadata": {
    "jupyter": {
     "source_hidden": true
    },
    "tags": []
   },
   "outputs": [
    {
     "data": {
      "image/png": "[encoded data removed]",
      "text/plain": [
       "<Figure size 720x504 with 1 Axes>"
      ]
     },
     "metadata": {
      "needs_background": "light"
     },
     "output_type": "display_data"
    }
   ],
   "source": [
    "train_dataset_df_, test_dataset_s_, _, _ = create_input_dataset(embeddings_bool=False, selected_columns=feature_set)\n",
    "_, X_test, _, y_test = train_test_split(train_dataset_df_, test_dataset_s_, test_size=0.2, random_state=random_seed)\n",
    "y_pred_prob = grid_search_best.best_estimator_.predict_proba(X_test)[:,1]\n",
    "    \n",
    "plot_roc_curve(y_test, y_pred_prob)"
   ]
  },
  {
   "cell_type": "code",
   "execution_count": 242,
   "metadata": {},
   "outputs": [],
   "source": [
    "with open(processed_dir + 'grid_search_best.pkl', mode='wb') as fp:\n",
    "    cPickle.dump(grid_search_best, fp)\n",
    "    \n",
    "with open(processed_dir + 'grid_search_final.pkl', mode='wb') as fp:\n",
    "    cPickle.dump(grid_search_final, fp)"
   ]
  },
  {
   "cell_type": "markdown",
   "metadata": {
    "tags": []
   },
   "source": [
    "# Deployment\n",
    "\n",
    "In this final stage, I will perform the predictions on the Test Dataset"
   ]
  },
  {
   "cell_type": "code",
   "execution_count": 186,
   "metadata": {},
   "outputs": [
    {
     "name": "stdout",
     "output_type": "stream",
     "text": [
      "Wall time: 10min 32s\n"
     ]
    }
   ],
   "source": [
    "%%time\n",
    "test_demographics = pd.read_csv(raw_dir + 'Udacity_MAILOUT_052018_TEST.csv', sep=';', low_memory=False)\n",
    "\n",
    "test_demographics_clean, _, _ = clean_transform_demographics_data(test_demographics, missing_data_cols, customer_data=False, drop_dups=False)\n",
    "\n",
    "test_cluster_embeddings, test_clusters = clustering_with_umap_hdbscan(test_demographics_clean, clustering_algo_columns=clustering_algo_columns)"
   ]
  },
  {
   "cell_type": "code",
   "execution_count": 403,
   "metadata": {
    "tags": []
   },
   "outputs": [],
   "source": [
    "random_seed = 42\n",
    "test_dataset_df_, _, all_columns, categ_features = create_input_dataset(demographics_clean=test_demographics_clean, cluster_embeddings=test_cluster_embeddings, clusters=test_clusters, selected_columns=feature_set, embeddings_bool=False, test_dataset=True)\n",
    "\n",
    "test_responses = grid_search_best.best_estimator_.predict_proba(test_dataset_df_)[:, 1]\n",
    "\n",
    "test_demographics_clean['PREDICTED_RESPONSE'] = test_responses"
   ]
  },
  {
   "cell_type": "code",
   "execution_count": 414,
   "metadata": {},
   "outputs": [],
   "source": [
    "test_demographics_clean.to_csv(processed_dir + \"Udacity_MAILOUT_Predictions.csv\", index=False)"
   ]
  },
  {
   "cell_type": "code",
   "execution_count": 306,
   "metadata": {},
   "outputs": [
    {
     "data": {
      "text/plain": [
       "(0    29380\n",
       " 1      380\n",
       " Name: RESPONSE, dtype: int64,\n",
       " 0    0.987231\n",
       " 1    0.012769\n",
       " Name: RESPONSE, dtype: float64)"
      ]
     },
     "execution_count": 306,
     "metadata": {},
     "output_type": "execute_result"
    }
   ],
   "source": [
    "y_train.value_counts(), y_train.value_counts(normalize=True)"
   ]
  },
  {
   "cell_type": "code",
   "execution_count": null,
   "metadata": {},
   "outputs": [],
   "source": []
  }
 ],
 "metadata": {
  "kernelspec": {
   "display_name": "Python 3 (ipykernel)",
   "language": "python",
   "name": "python3"
  },
  "language_info": {
   "codemirror_mode": {
    "name": "ipython",
    "version": 3
   },
   "file_extension": ".py",
   "mimetype": "text/x-python",
   "name": "python",
   "nbconvert_exporter": "python",
   "pygments_lexer": "ipython3",
   "version": "3.7.3"
  }
 },
 "nbformat": 4,
 "nbformat_minor": 4
}
